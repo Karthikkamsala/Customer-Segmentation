{
 "cells": [
  {
   "cell_type": "raw",
   "id": "fb61b35b",
   "metadata": {
    "_cell_guid": "b1076dfc-b9ad-4769-8c92-a6c4dae69d19",
    "_uuid": "8f2839f25d086af736a60e9eeb907d3b93b6e0e5",
    "papermill": {
     "duration": 0.013897,
     "end_time": "2022-03-27T15:26:22.238460",
     "exception": false,
     "start_time": "2022-03-27T15:26:22.224563",
     "status": "completed"
    },
    "tags": []
   },
   "source": []
  },
  {
   "cell_type": "code",
   "execution_count": 1,
   "id": "93ba6f8e",
   "metadata": {
    "execution": {
     "iopub.execute_input": "2022-03-27T15:26:22.269137Z",
     "iopub.status.busy": "2022-03-27T15:26:22.268064Z",
     "iopub.status.idle": "2022-03-27T15:26:23.841408Z",
     "shell.execute_reply": "2022-03-27T15:26:23.840429Z",
     "shell.execute_reply.started": "2022-03-27T15:25:38.620054Z"
    },
    "papermill": {
     "duration": 1.589945,
     "end_time": "2022-03-27T15:26:23.841596",
     "exception": false,
     "start_time": "2022-03-27T15:26:22.251651",
     "status": "completed"
    },
    "tags": []
   },
   "outputs": [],
   "source": [
    "import os\n",
    "import pandas as pd\n",
    "import numpy as np\n",
    "import seaborn as sns\n",
    "import matplotlib.pyplot as plt\n",
    "from sklearn.cluster import KMeans"
   ]
  },
  {
   "cell_type": "markdown",
   "id": "6d340d13",
   "metadata": {
    "papermill": {
     "duration": 0.013588,
     "end_time": "2022-03-27T15:26:23.869323",
     "exception": false,
     "start_time": "2022-03-27T15:26:23.855735",
     "status": "completed"
    },
    "tags": []
   },
   "source": [
    "data loading"
   ]
  },
  {
   "cell_type": "code",
   "execution_count": 2,
   "id": "841d9305",
   "metadata": {
    "execution": {
     "iopub.execute_input": "2022-03-27T15:26:23.898858Z",
     "iopub.status.busy": "2022-03-27T15:26:23.898286Z",
     "iopub.status.idle": "2022-03-27T15:26:23.940360Z",
     "shell.execute_reply": "2022-03-27T15:26:23.940855Z",
     "shell.execute_reply.started": "2022-03-27T15:25:38.637102Z"
    },
    "papermill": {
     "duration": 0.058638,
     "end_time": "2022-03-27T15:26:23.941054",
     "exception": false,
     "start_time": "2022-03-27T15:26:23.882416",
     "status": "completed"
    },
    "tags": []
   },
   "outputs": [],
   "source": [
    "cdata=pd.read_csv('../input/customer-segmentation-tutorial-in-python/Mall_Customers.csv')"
   ]
  },
  {
   "cell_type": "code",
   "execution_count": 3,
   "id": "472c65ac",
   "metadata": {
    "execution": {
     "iopub.execute_input": "2022-03-27T15:26:23.970135Z",
     "iopub.status.busy": "2022-03-27T15:26:23.969518Z",
     "iopub.status.idle": "2022-03-27T15:26:23.987341Z",
     "shell.execute_reply": "2022-03-27T15:26:23.987785Z",
     "shell.execute_reply.started": "2022-03-27T15:25:38.655884Z"
    },
    "papermill": {
     "duration": 0.033815,
     "end_time": "2022-03-27T15:26:23.987939",
     "exception": false,
     "start_time": "2022-03-27T15:26:23.954124",
     "status": "completed"
    },
    "tags": []
   },
   "outputs": [
    {
     "data": {
      "text/html": [
       "<div>\n",
       "<style scoped>\n",
       "    .dataframe tbody tr th:only-of-type {\n",
       "        vertical-align: middle;\n",
       "    }\n",
       "\n",
       "    .dataframe tbody tr th {\n",
       "        vertical-align: top;\n",
       "    }\n",
       "\n",
       "    .dataframe thead th {\n",
       "        text-align: right;\n",
       "    }\n",
       "</style>\n",
       "<table border=\"1\" class=\"dataframe\">\n",
       "  <thead>\n",
       "    <tr style=\"text-align: right;\">\n",
       "      <th></th>\n",
       "      <th>CustomerID</th>\n",
       "      <th>Gender</th>\n",
       "      <th>Age</th>\n",
       "      <th>Annual Income (k$)</th>\n",
       "      <th>Spending Score (1-100)</th>\n",
       "    </tr>\n",
       "  </thead>\n",
       "  <tbody>\n",
       "    <tr>\n",
       "      <th>0</th>\n",
       "      <td>1</td>\n",
       "      <td>Male</td>\n",
       "      <td>19</td>\n",
       "      <td>15</td>\n",
       "      <td>39</td>\n",
       "    </tr>\n",
       "    <tr>\n",
       "      <th>1</th>\n",
       "      <td>2</td>\n",
       "      <td>Male</td>\n",
       "      <td>21</td>\n",
       "      <td>15</td>\n",
       "      <td>81</td>\n",
       "    </tr>\n",
       "    <tr>\n",
       "      <th>2</th>\n",
       "      <td>3</td>\n",
       "      <td>Female</td>\n",
       "      <td>20</td>\n",
       "      <td>16</td>\n",
       "      <td>6</td>\n",
       "    </tr>\n",
       "    <tr>\n",
       "      <th>3</th>\n",
       "      <td>4</td>\n",
       "      <td>Female</td>\n",
       "      <td>23</td>\n",
       "      <td>16</td>\n",
       "      <td>77</td>\n",
       "    </tr>\n",
       "    <tr>\n",
       "      <th>4</th>\n",
       "      <td>5</td>\n",
       "      <td>Female</td>\n",
       "      <td>31</td>\n",
       "      <td>17</td>\n",
       "      <td>40</td>\n",
       "    </tr>\n",
       "  </tbody>\n",
       "</table>\n",
       "</div>"
      ],
      "text/plain": [
       "   CustomerID  Gender  Age  Annual Income (k$)  Spending Score (1-100)\n",
       "0           1    Male   19                  15                      39\n",
       "1           2    Male   21                  15                      81\n",
       "2           3  Female   20                  16                       6\n",
       "3           4  Female   23                  16                      77\n",
       "4           5  Female   31                  17                      40"
      ]
     },
     "execution_count": 3,
     "metadata": {},
     "output_type": "execute_result"
    }
   ],
   "source": [
    "cdata.head()"
   ]
  },
  {
   "cell_type": "code",
   "execution_count": 4,
   "id": "259e98c2",
   "metadata": {
    "execution": {
     "iopub.execute_input": "2022-03-27T15:26:24.022039Z",
     "iopub.status.busy": "2022-03-27T15:26:24.021379Z",
     "iopub.status.idle": "2022-03-27T15:26:24.041236Z",
     "shell.execute_reply": "2022-03-27T15:26:24.041938Z",
     "shell.execute_reply.started": "2022-03-27T15:25:38.669677Z"
    },
    "papermill": {
     "duration": 0.040363,
     "end_time": "2022-03-27T15:26:24.042192",
     "exception": false,
     "start_time": "2022-03-27T15:26:24.001829",
     "status": "completed"
    },
    "tags": []
   },
   "outputs": [
    {
     "name": "stdout",
     "output_type": "stream",
     "text": [
      "<class 'pandas.core.frame.DataFrame'>\n",
      "RangeIndex: 200 entries, 0 to 199\n",
      "Data columns (total 5 columns):\n",
      " #   Column                  Non-Null Count  Dtype \n",
      "---  ------                  --------------  ----- \n",
      " 0   CustomerID              200 non-null    int64 \n",
      " 1   Gender                  200 non-null    object\n",
      " 2   Age                     200 non-null    int64 \n",
      " 3   Annual Income (k$)      200 non-null    int64 \n",
      " 4   Spending Score (1-100)  200 non-null    int64 \n",
      "dtypes: int64(4), object(1)\n",
      "memory usage: 7.9+ KB\n"
     ]
    }
   ],
   "source": [
    "cdata.info()"
   ]
  },
  {
   "cell_type": "code",
   "execution_count": 5,
   "id": "d1ca0fe1",
   "metadata": {
    "execution": {
     "iopub.execute_input": "2022-03-27T15:26:24.078443Z",
     "iopub.status.busy": "2022-03-27T15:26:24.077747Z",
     "iopub.status.idle": "2022-03-27T15:26:24.080138Z",
     "shell.execute_reply": "2022-03-27T15:26:24.080650Z",
     "shell.execute_reply.started": "2022-03-27T15:25:38.685323Z"
    },
    "papermill": {
     "duration": 0.023798,
     "end_time": "2022-03-27T15:26:24.080806",
     "exception": false,
     "start_time": "2022-03-27T15:26:24.057008",
     "status": "completed"
    },
    "tags": []
   },
   "outputs": [
    {
     "data": {
      "text/plain": [
       "CustomerID                0\n",
       "Gender                    0\n",
       "Age                       0\n",
       "Annual Income (k$)        0\n",
       "Spending Score (1-100)    0\n",
       "dtype: int64"
      ]
     },
     "execution_count": 5,
     "metadata": {},
     "output_type": "execute_result"
    }
   ],
   "source": [
    "cdata.isnull().sum()"
   ]
  },
  {
   "cell_type": "code",
   "execution_count": 6,
   "id": "51d79e6d",
   "metadata": {
    "execution": {
     "iopub.execute_input": "2022-03-27T15:26:24.115248Z",
     "iopub.status.busy": "2022-03-27T15:26:24.112809Z",
     "iopub.status.idle": "2022-03-27T15:26:24.118242Z",
     "shell.execute_reply": "2022-03-27T15:26:24.118728Z",
     "shell.execute_reply.started": "2022-03-27T15:25:38.696144Z"
    },
    "papermill": {
     "duration": 0.023583,
     "end_time": "2022-03-27T15:26:24.118880",
     "exception": false,
     "start_time": "2022-03-27T15:26:24.095297",
     "status": "completed"
    },
    "tags": []
   },
   "outputs": [
    {
     "data": {
      "text/plain": [
       "(200, 5)"
      ]
     },
     "execution_count": 6,
     "metadata": {},
     "output_type": "execute_result"
    }
   ],
   "source": [
    "cdata.shape"
   ]
  },
  {
   "cell_type": "code",
   "execution_count": 7,
   "id": "97e28ae2",
   "metadata": {
    "execution": {
     "iopub.execute_input": "2022-03-27T15:26:24.151747Z",
     "iopub.status.busy": "2022-03-27T15:26:24.150849Z",
     "iopub.status.idle": "2022-03-27T15:26:24.157202Z",
     "shell.execute_reply": "2022-03-27T15:26:24.157702Z",
     "shell.execute_reply.started": "2022-03-27T15:25:38.704322Z"
    },
    "papermill": {
     "duration": 0.024033,
     "end_time": "2022-03-27T15:26:24.157860",
     "exception": false,
     "start_time": "2022-03-27T15:26:24.133827",
     "status": "completed"
    },
    "tags": []
   },
   "outputs": [],
   "source": [
    "'''here we cant cluster based on \n",
    "customer id\n",
    "gender(not efficient)\n",
    "age(not efficient)\n",
    "so anual income and speanding score are perfect for analysis\n",
    "1. colon is used to select the colomn\n",
    "2. as indexing starts from 0 i have selected 3and 4 colomn'''\n",
    "\n",
    "x=cdata.iloc[:,[3,4]].values"
   ]
  },
  {
   "cell_type": "code",
   "execution_count": 8,
   "id": "60647882",
   "metadata": {
    "execution": {
     "iopub.execute_input": "2022-03-27T15:26:24.189748Z",
     "iopub.status.busy": "2022-03-27T15:26:24.188867Z",
     "iopub.status.idle": "2022-03-27T15:26:24.196015Z",
     "shell.execute_reply": "2022-03-27T15:26:24.195174Z",
     "shell.execute_reply.started": "2022-03-27T15:25:38.712120Z"
    },
    "papermill": {
     "duration": 0.024286,
     "end_time": "2022-03-27T15:26:24.196196",
     "exception": false,
     "start_time": "2022-03-27T15:26:24.171910",
     "status": "completed"
    },
    "tags": []
   },
   "outputs": [
    {
     "name": "stdout",
     "output_type": "stream",
     "text": [
      "[[ 15  39]\n",
      " [ 15  81]\n",
      " [ 16   6]\n",
      " [ 16  77]\n",
      " [ 17  40]\n",
      " [ 17  76]\n",
      " [ 18   6]\n",
      " [ 18  94]\n",
      " [ 19   3]\n",
      " [ 19  72]\n",
      " [ 19  14]\n",
      " [ 19  99]\n",
      " [ 20  15]\n",
      " [ 20  77]\n",
      " [ 20  13]\n",
      " [ 20  79]\n",
      " [ 21  35]\n",
      " [ 21  66]\n",
      " [ 23  29]\n",
      " [ 23  98]\n",
      " [ 24  35]\n",
      " [ 24  73]\n",
      " [ 25   5]\n",
      " [ 25  73]\n",
      " [ 28  14]\n",
      " [ 28  82]\n",
      " [ 28  32]\n",
      " [ 28  61]\n",
      " [ 29  31]\n",
      " [ 29  87]\n",
      " [ 30   4]\n",
      " [ 30  73]\n",
      " [ 33   4]\n",
      " [ 33  92]\n",
      " [ 33  14]\n",
      " [ 33  81]\n",
      " [ 34  17]\n",
      " [ 34  73]\n",
      " [ 37  26]\n",
      " [ 37  75]\n",
      " [ 38  35]\n",
      " [ 38  92]\n",
      " [ 39  36]\n",
      " [ 39  61]\n",
      " [ 39  28]\n",
      " [ 39  65]\n",
      " [ 40  55]\n",
      " [ 40  47]\n",
      " [ 40  42]\n",
      " [ 40  42]\n",
      " [ 42  52]\n",
      " [ 42  60]\n",
      " [ 43  54]\n",
      " [ 43  60]\n",
      " [ 43  45]\n",
      " [ 43  41]\n",
      " [ 44  50]\n",
      " [ 44  46]\n",
      " [ 46  51]\n",
      " [ 46  46]\n",
      " [ 46  56]\n",
      " [ 46  55]\n",
      " [ 47  52]\n",
      " [ 47  59]\n",
      " [ 48  51]\n",
      " [ 48  59]\n",
      " [ 48  50]\n",
      " [ 48  48]\n",
      " [ 48  59]\n",
      " [ 48  47]\n",
      " [ 49  55]\n",
      " [ 49  42]\n",
      " [ 50  49]\n",
      " [ 50  56]\n",
      " [ 54  47]\n",
      " [ 54  54]\n",
      " [ 54  53]\n",
      " [ 54  48]\n",
      " [ 54  52]\n",
      " [ 54  42]\n",
      " [ 54  51]\n",
      " [ 54  55]\n",
      " [ 54  41]\n",
      " [ 54  44]\n",
      " [ 54  57]\n",
      " [ 54  46]\n",
      " [ 57  58]\n",
      " [ 57  55]\n",
      " [ 58  60]\n",
      " [ 58  46]\n",
      " [ 59  55]\n",
      " [ 59  41]\n",
      " [ 60  49]\n",
      " [ 60  40]\n",
      " [ 60  42]\n",
      " [ 60  52]\n",
      " [ 60  47]\n",
      " [ 60  50]\n",
      " [ 61  42]\n",
      " [ 61  49]\n",
      " [ 62  41]\n",
      " [ 62  48]\n",
      " [ 62  59]\n",
      " [ 62  55]\n",
      " [ 62  56]\n",
      " [ 62  42]\n",
      " [ 63  50]\n",
      " [ 63  46]\n",
      " [ 63  43]\n",
      " [ 63  48]\n",
      " [ 63  52]\n",
      " [ 63  54]\n",
      " [ 64  42]\n",
      " [ 64  46]\n",
      " [ 65  48]\n",
      " [ 65  50]\n",
      " [ 65  43]\n",
      " [ 65  59]\n",
      " [ 67  43]\n",
      " [ 67  57]\n",
      " [ 67  56]\n",
      " [ 67  40]\n",
      " [ 69  58]\n",
      " [ 69  91]\n",
      " [ 70  29]\n",
      " [ 70  77]\n",
      " [ 71  35]\n",
      " [ 71  95]\n",
      " [ 71  11]\n",
      " [ 71  75]\n",
      " [ 71   9]\n",
      " [ 71  75]\n",
      " [ 72  34]\n",
      " [ 72  71]\n",
      " [ 73   5]\n",
      " [ 73  88]\n",
      " [ 73   7]\n",
      " [ 73  73]\n",
      " [ 74  10]\n",
      " [ 74  72]\n",
      " [ 75   5]\n",
      " [ 75  93]\n",
      " [ 76  40]\n",
      " [ 76  87]\n",
      " [ 77  12]\n",
      " [ 77  97]\n",
      " [ 77  36]\n",
      " [ 77  74]\n",
      " [ 78  22]\n",
      " [ 78  90]\n",
      " [ 78  17]\n",
      " [ 78  88]\n",
      " [ 78  20]\n",
      " [ 78  76]\n",
      " [ 78  16]\n",
      " [ 78  89]\n",
      " [ 78   1]\n",
      " [ 78  78]\n",
      " [ 78   1]\n",
      " [ 78  73]\n",
      " [ 79  35]\n",
      " [ 79  83]\n",
      " [ 81   5]\n",
      " [ 81  93]\n",
      " [ 85  26]\n",
      " [ 85  75]\n",
      " [ 86  20]\n",
      " [ 86  95]\n",
      " [ 87  27]\n",
      " [ 87  63]\n",
      " [ 87  13]\n",
      " [ 87  75]\n",
      " [ 87  10]\n",
      " [ 87  92]\n",
      " [ 88  13]\n",
      " [ 88  86]\n",
      " [ 88  15]\n",
      " [ 88  69]\n",
      " [ 93  14]\n",
      " [ 93  90]\n",
      " [ 97  32]\n",
      " [ 97  86]\n",
      " [ 98  15]\n",
      " [ 98  88]\n",
      " [ 99  39]\n",
      " [ 99  97]\n",
      " [101  24]\n",
      " [101  68]\n",
      " [103  17]\n",
      " [103  85]\n",
      " [103  23]\n",
      " [103  69]\n",
      " [113   8]\n",
      " [113  91]\n",
      " [120  16]\n",
      " [120  79]\n",
      " [126  28]\n",
      " [126  74]\n",
      " [137  18]\n",
      " [137  83]]\n"
     ]
    }
   ],
   "source": [
    "print(x)"
   ]
  },
  {
   "cell_type": "code",
   "execution_count": null,
   "id": "778b69e5",
   "metadata": {
    "papermill": {
     "duration": 0.014358,
     "end_time": "2022-03-27T15:26:24.226612",
     "exception": false,
     "start_time": "2022-03-27T15:26:24.212254",
     "status": "completed"
    },
    "tags": []
   },
   "outputs": [],
   "source": []
  },
  {
   "cell_type": "markdown",
   "id": "0bcddb79",
   "metadata": {
    "papermill": {
     "duration": 0.014493,
     "end_time": "2022-03-27T15:26:24.256052",
     "exception": false,
     "start_time": "2022-03-27T15:26:24.241559",
     "status": "completed"
    },
    "tags": []
   },
   "source": [
    "Its time to select the no of clusters\n",
    "for that i am using WCSS(within cluster sum of squares )as my parameter\n"
   ]
  },
  {
   "cell_type": "code",
   "execution_count": 9,
   "id": "0958a779",
   "metadata": {
    "execution": {
     "iopub.execute_input": "2022-03-27T15:26:24.289308Z",
     "iopub.status.busy": "2022-03-27T15:26:24.288394Z",
     "iopub.status.idle": "2022-03-27T15:26:25.408468Z",
     "shell.execute_reply": "2022-03-27T15:26:25.407063Z",
     "shell.execute_reply.started": "2022-03-27T15:25:38.726156Z"
    },
    "papermill": {
     "duration": 1.137831,
     "end_time": "2022-03-27T15:26:25.408619",
     "exception": false,
     "start_time": "2022-03-27T15:26:24.270788",
     "status": "completed"
    },
    "tags": []
   },
   "outputs": [],
   "source": [
    "wcss=[]\n",
    "for i in range(1,11):\n",
    "    kmeans = KMeans(n_clusters=i, init='k-means++',random_state=23)\n",
    "    kmeans.fit(x)\n",
    "    \n",
    "    wcss.append(kmeans.inertia_)\n"
   ]
  },
  {
   "cell_type": "markdown",
   "id": "ed5a2e56",
   "metadata": {
    "papermill": {
     "duration": 0.014987,
     "end_time": "2022-03-27T15:26:25.438795",
     "exception": false,
     "start_time": "2022-03-27T15:26:25.423808",
     "status": "completed"
    },
    "tags": []
   },
   "source": []
  },
  {
   "cell_type": "code",
   "execution_count": 10,
   "id": "b493092c",
   "metadata": {
    "execution": {
     "iopub.execute_input": "2022-03-27T15:26:25.480631Z",
     "iopub.status.busy": "2022-03-27T15:26:25.479931Z",
     "iopub.status.idle": "2022-03-27T15:26:25.688419Z",
     "shell.execute_reply": "2022-03-27T15:26:25.688883Z",
     "shell.execute_reply.started": "2022-03-27T15:25:39.283176Z"
    },
    "papermill": {
     "duration": 0.235188,
     "end_time": "2022-03-27T15:26:25.689065",
     "exception": false,
     "start_time": "2022-03-27T15:26:25.453877",
     "status": "completed"
    },
    "tags": []
   },
   "outputs": [
    {
     "data": {
      "image/png": "[encoded data removed]",
      "text/plain": [
       "<Figure size 432x288 with 1 Axes>"
      ]
     },
     "metadata": {},
     "output_type": "display_data"
    }
   ],
   "source": [
    "# ploting the elbow the graph \n",
    "sns.set()\n",
    "plt.plot(range(1,11),wcss) \n",
    "plt.title(\"Elbow graph\")\n",
    "plt.xlabel(\"No. of Clusters\")\n",
    "plt.ylabel(\"WCSS\")\n",
    "plt.show()"
   ]
  },
  {
   "cell_type": "markdown",
   "id": "ad34c4ac",
   "metadata": {
    "papermill": {
     "duration": 0.015345,
     "end_time": "2022-03-27T15:26:25.719978",
     "exception": false,
     "start_time": "2022-03-27T15:26:25.704633",
     "status": "completed"
    },
    "tags": []
   },
   "source": [
    "optimal number of clusters\n",
    "\n",
    "From the above graph we can see that line is moving parellel to the x axis so we can conclude that the point from which it is moving parallel is K(no .of cluster) "
   ]
  },
  {
   "cell_type": "code",
   "execution_count": 11,
   "id": "98a37e11",
   "metadata": {
    "execution": {
     "iopub.execute_input": "2022-03-27T15:26:25.755073Z",
     "iopub.status.busy": "2022-03-27T15:26:25.754169Z",
     "iopub.status.idle": "2022-03-27T15:26:26.080499Z",
     "shell.execute_reply": "2022-03-27T15:26:26.081220Z",
     "shell.execute_reply.started": "2022-03-27T15:25:39.446967Z"
    },
    "papermill": {
     "duration": 0.345698,
     "end_time": "2022-03-27T15:26:26.081417",
     "exception": false,
     "start_time": "2022-03-27T15:26:25.735719",
     "status": "completed"
    },
    "tags": []
   },
   "outputs": [
    {
     "name": "stdout",
     "output_type": "stream",
     "text": [
      "[4 2 7 2 4 2 7 2 7 2 7 2 7 2 7 2 4 2 4 2 4 2 7 2 7 2 4 2 4 2 7 2 7 2 7 2 7\n",
      " 2 4 2 4 2 4 8 4 8 8 8 8 8 8 8 8 8 8 8 8 8 8 8 8 8 8 8 8 8 8 8 8 8 8 8 8 8\n",
      " 8 8 8 8 8 0 8 8 0 0 8 8 8 8 8 0 0 0 0 0 0 0 0 0 0 0 0 0 0 0 0 0 0 0 0 0 0\n",
      " 0 0 0 0 0 0 0 0 0 0 0 0 5 0 9 0 5 3 9 3 9 0 9 3 5 3 9 3 9 3 5 0 5 3 5 0 9\n",
      " 3 5 3 5 3 9 3 5 3 9 3 9 0 5 3 5 3 9 3 5 3 9 3 9 3 5 3 5 3 9 3 5 6 5 6 5 6\n",
      " 5 6 1 6 1 6 1 6 1 6 1 6 1 6 1]\n"
     ]
    }
   ],
   "source": [
    "# now we can train the model using a training data\n",
    "kmean=KMeans(n_clusters=5,init='k-mean++',random_state=2)\n",
    "y=kmeans.fit_predict(x)\n",
    "\n",
    "print(y)"
   ]
  },
  {
   "cell_type": "code",
   "execution_count": 12,
   "id": "b8fa54ee",
   "metadata": {
    "execution": {
     "iopub.execute_input": "2022-03-27T15:26:26.127294Z",
     "iopub.status.busy": "2022-03-27T15:26:26.126292Z",
     "iopub.status.idle": "2022-03-27T15:26:26.428079Z",
     "shell.execute_reply": "2022-03-27T15:26:26.428553Z",
     "shell.execute_reply.started": "2022-03-27T15:25:39.745940Z"
    },
    "papermill": {
     "duration": 0.327474,
     "end_time": "2022-03-27T15:26:26.428711",
     "exception": false,
     "start_time": "2022-03-27T15:26:26.101237",
     "status": "completed"
    },
    "tags": []
   },
   "outputs": [
    {
     "data": {
      "image/png": "[encoded data removed]",
      "text/plain": [
       "<Figure size 720x720 with 1 Axes>"
      ]
     },
     "metadata": {},
     "output_type": "display_data"
    }
   ],
   "source": [
    "#visulaising all the clusters\n",
    "plt.figure(figsize=(10,10))\n",
    "plt.scatter(x[y==0,0], x[y==0,1], s=50, c='green', label='Cluster 1')\n",
    "plt.scatter(x[y==1,0], x[y==1,1], s=50, c='red', label='Cluster 2')\n",
    "plt.scatter(x[y==2,0], x[y==2,1], s=50, c='yellow', label='Cluster 3')\n",
    "plt.scatter(x[y==3,0], x[y==3,1], s=50, c='violet', label='Cluster 4')\n",
    "plt.scatter(x[y==4,0], x[y==4,1], s=50, c='blue', label='Cluster 5')\n",
    "\n",
    "#centroids\n",
    "plt.scatter(kmeans.cluster_centers_[:,0], kmeans.cluster_centers_[:,1], s=100, c='cyan', label='Centroids')\n",
    "\n",
    "plt.title('Customer Groups')\n",
    "plt.xlabel('Annual Income')\n",
    "plt.ylabel('Spending Score')\n",
    "plt.show()"
   ]
  },
  {
   "cell_type": "code",
   "execution_count": null,
   "id": "d375736b",
   "metadata": {
    "papermill": {
     "duration": 0.016727,
     "end_time": "2022-03-27T15:26:26.463238",
     "exception": false,
     "start_time": "2022-03-27T15:26:26.446511",
     "status": "completed"
    },
    "tags": []
   },
   "outputs": [],
   "source": []
  }
 ],
 "metadata": {
  "kernelspec": {
   "display_name": "Python 3",
   "language": "python",
   "name": "python3"
  },
  "language_info": {
   "codemirror_mode": {
    "name": "ipython",
    "version": 3
   },
   "file_extension": ".py",
   "mimetype": "text/x-python",
   "name": "python",
   "nbconvert_exporter": "python",
   "pygments_lexer": "ipython3",
   "version": "3.7.12"
  },
  "papermill": {
   "default_parameters": {},
   "duration": 13.562725,
   "end_time": "2022-03-27T15:26:27.190680",
   "environment_variables": {},
   "exception": null,
   "input_path": "__notebook__.ipynb",
   "output_path": "__notebook__.ipynb",
   "parameters": {},
   "start_time": "2022-03-27T15:26:13.627955",
   "version": "2.3.3"
  }
 },
 "nbformat": 4,
 "nbformat_minor": 5
}
