{
 "cells": [
  {
   "cell_type": "raw",
   "id": "21078451",
   "metadata": {
    "_cell_guid": "b1076dfc-b9ad-4769-8c92-a6c4dae69d19",
    "_uuid": "8f2839f25d086af736a60e9eeb907d3b93b6e0e5",
    "papermill": {
     "duration": 0.018703,
     "end_time": "2022-03-24T03:47:07.393737",
     "exception": false,
     "start_time": "2022-03-24T03:47:07.375034",
     "status": "completed"
    },
    "tags": []
   },
   "source": [
    "# This Python 3 environment comes with many helpful analytics libraries installed\n",
    "# It is defined by the kaggle/python Docker image: https://github.com/kaggle/docker-python\n",
    "# For example, here's several helpful packages to load\n",
    "\n",
    "import numpy as np # linear algebra\n",
    "import pandas as pd # data processing, CSV file I/O (e.g. pd.read_csv)\n",
    "\n",
    "# Input data files are available in the read-only \"../input/\" directory\n",
    "# For example, running this (by clicking run or pressing Shift+Enter) will list all files under the input directory\n",
    "\n",
    "import os\n",
    "for dirname, _, filenames in os.walk('/kaggle/input'):\n",
    "    for filename in filenames:\n",
    "        print(os.path.join(dirname, filename))\n",
    "\n",
    "# You can write up to 20GB to the current directory (/kaggle/working/) that gets preserved as output when you create a version using \"Save & Run All\" \n",
    "# You can also write temporary files to /kaggle/temp/, but they won't be saved outside of the current session"
   ]
  },
  {
   "cell_type": "code",
   "execution_count": 1,
   "id": "7f4f09ef",
   "metadata": {
    "execution": {
     "iopub.execute_input": "2022-03-24T03:47:07.435993Z",
     "iopub.status.busy": "2022-03-24T03:47:07.434206Z",
     "iopub.status.idle": "2022-03-24T03:47:08.955925Z",
     "shell.execute_reply": "2022-03-24T03:47:08.955065Z",
     "shell.execute_reply.started": "2022-03-24T03:35:43.557300Z"
    },
    "papermill": {
     "duration": 1.543711,
     "end_time": "2022-03-24T03:47:08.956106",
     "exception": false,
     "start_time": "2022-03-24T03:47:07.412395",
     "status": "completed"
    },
    "tags": []
   },
   "outputs": [],
   "source": [
    "import os\n",
    "import pandas as pd\n",
    "import numpy as np\n",
    "import seaborn as sns\n",
    "import matplotlib.pyplot as plt\n",
    "from sklearn.cluster import KMeans"
   ]
  },
  {
   "cell_type": "markdown",
   "id": "542fade6",
   "metadata": {
    "papermill": {
     "duration": 0.017462,
     "end_time": "2022-03-24T03:47:08.991245",
     "exception": false,
     "start_time": "2022-03-24T03:47:08.973783",
     "status": "completed"
    },
    "tags": []
   },
   "source": [
    "data loading"
   ]
  },
  {
   "cell_type": "code",
   "execution_count": 2,
   "id": "dc6db9b9",
   "metadata": {
    "execution": {
     "iopub.execute_input": "2022-03-24T03:47:09.031752Z",
     "iopub.status.busy": "2022-03-24T03:47:09.031107Z",
     "iopub.status.idle": "2022-03-24T03:47:09.045713Z",
     "shell.execute_reply": "2022-03-24T03:47:09.046210Z",
     "shell.execute_reply.started": "2022-03-24T03:35:44.988520Z"
    },
    "papermill": {
     "duration": 0.03774,
     "end_time": "2022-03-24T03:47:09.046399",
     "exception": false,
     "start_time": "2022-03-24T03:47:09.008659",
     "status": "completed"
    },
    "tags": []
   },
   "outputs": [],
   "source": [
    "cdata=pd.read_csv('../input/customer-segmentation-tutorial-in-python/Mall_Customers.csv')"
   ]
  },
  {
   "cell_type": "code",
   "execution_count": 3,
   "id": "eda92ec0",
   "metadata": {
    "execution": {
     "iopub.execute_input": "2022-03-24T03:47:09.092736Z",
     "iopub.status.busy": "2022-03-24T03:47:09.091767Z",
     "iopub.status.idle": "2022-03-24T03:47:09.106448Z",
     "shell.execute_reply": "2022-03-24T03:47:09.106948Z",
     "shell.execute_reply.started": "2022-03-24T03:35:45.011077Z"
    },
    "papermill": {
     "duration": 0.042913,
     "end_time": "2022-03-24T03:47:09.107128",
     "exception": false,
     "start_time": "2022-03-24T03:47:09.064215",
     "status": "completed"
    },
    "tags": []
   },
   "outputs": [
    {
     "data": {
      "text/html": [
       "<div>\n",
       "<style scoped>\n",
       "    .dataframe tbody tr th:only-of-type {\n",
       "        vertical-align: middle;\n",
       "    }\n",
       "\n",
       "    .dataframe tbody tr th {\n",
       "        vertical-align: top;\n",
       "    }\n",
       "\n",
       "    .dataframe thead th {\n",
       "        text-align: right;\n",
       "    }\n",
       "</style>\n",
       "<table border=\"1\" class=\"dataframe\">\n",
       "  <thead>\n",
       "    <tr style=\"text-align: right;\">\n",
       "      <th></th>\n",
       "      <th>CustomerID</th>\n",
       "      <th>Gender</th>\n",
       "      <th>Age</th>\n",
       "      <th>Annual Income (k$)</th>\n",
       "      <th>Spending Score (1-100)</th>\n",
       "    </tr>\n",
       "  </thead>\n",
       "  <tbody>\n",
       "    <tr>\n",
       "      <th>0</th>\n",
       "      <td>1</td>\n",
       "      <td>Male</td>\n",
       "      <td>19</td>\n",
       "      <td>15</td>\n",
       "      <td>39</td>\n",
       "    </tr>\n",
       "    <tr>\n",
       "      <th>1</th>\n",
       "      <td>2</td>\n",
       "      <td>Male</td>\n",
       "      <td>21</td>\n",
       "      <td>15</td>\n",
       "      <td>81</td>\n",
       "    </tr>\n",
       "    <tr>\n",
       "      <th>2</th>\n",
       "      <td>3</td>\n",
       "      <td>Female</td>\n",
       "      <td>20</td>\n",
       "      <td>16</td>\n",
       "      <td>6</td>\n",
       "    </tr>\n",
       "    <tr>\n",
       "      <th>3</th>\n",
       "      <td>4</td>\n",
       "      <td>Female</td>\n",
       "      <td>23</td>\n",
       "      <td>16</td>\n",
       "      <td>77</td>\n",
       "    </tr>\n",
       "    <tr>\n",
       "      <th>4</th>\n",
       "      <td>5</td>\n",
       "      <td>Female</td>\n",
       "      <td>31</td>\n",
       "      <td>17</td>\n",
       "      <td>40</td>\n",
       "    </tr>\n",
       "  </tbody>\n",
       "</table>\n",
       "</div>"
      ],
      "text/plain": [
       "   CustomerID  Gender  Age  Annual Income (k$)  Spending Score (1-100)\n",
       "0           1    Male   19                  15                      39\n",
       "1           2    Male   21                  15                      81\n",
       "2           3  Female   20                  16                       6\n",
       "3           4  Female   23                  16                      77\n",
       "4           5  Female   31                  17                      40"
      ]
     },
     "execution_count": 3,
     "metadata": {},
     "output_type": "execute_result"
    }
   ],
   "source": [
    "cdata.head()"
   ]
  },
  {
   "cell_type": "code",
   "execution_count": 4,
   "id": "25e1ef71",
   "metadata": {
    "execution": {
     "iopub.execute_input": "2022-03-24T03:47:09.150031Z",
     "iopub.status.busy": "2022-03-24T03:47:09.146676Z",
     "iopub.status.idle": "2022-03-24T03:47:09.172835Z",
     "shell.execute_reply": "2022-03-24T03:47:09.170853Z",
     "shell.execute_reply.started": "2022-03-24T03:35:45.035277Z"
    },
    "papermill": {
     "duration": 0.047543,
     "end_time": "2022-03-24T03:47:09.173059",
     "exception": false,
     "start_time": "2022-03-24T03:47:09.125516",
     "status": "completed"
    },
    "tags": []
   },
   "outputs": [
    {
     "name": "stdout",
     "output_type": "stream",
     "text": [
      "<class 'pandas.core.frame.DataFrame'>\n",
      "RangeIndex: 200 entries, 0 to 199\n",
      "Data columns (total 5 columns):\n",
      " #   Column                  Non-Null Count  Dtype \n",
      "---  ------                  --------------  ----- \n",
      " 0   CustomerID              200 non-null    int64 \n",
      " 1   Gender                  200 non-null    object\n",
      " 2   Age                     200 non-null    int64 \n",
      " 3   Annual Income (k$)      200 non-null    int64 \n",
      " 4   Spending Score (1-100)  200 non-null    int64 \n",
      "dtypes: int64(4), object(1)\n",
      "memory usage: 7.9+ KB\n"
     ]
    }
   ],
   "source": [
    "cdata.info()"
   ]
  },
  {
   "cell_type": "code",
   "execution_count": 5,
   "id": "35b0f034",
   "metadata": {
    "execution": {
     "iopub.execute_input": "2022-03-24T03:47:09.217749Z",
     "iopub.status.busy": "2022-03-24T03:47:09.217066Z",
     "iopub.status.idle": "2022-03-24T03:47:09.224368Z",
     "shell.execute_reply": "2022-03-24T03:47:09.223834Z",
     "shell.execute_reply.started": "2022-03-24T03:35:45.058246Z"
    },
    "papermill": {
     "duration": 0.030646,
     "end_time": "2022-03-24T03:47:09.224529",
     "exception": false,
     "start_time": "2022-03-24T03:47:09.193883",
     "status": "completed"
    },
    "tags": []
   },
   "outputs": [
    {
     "data": {
      "text/plain": [
       "CustomerID                0\n",
       "Gender                    0\n",
       "Age                       0\n",
       "Annual Income (k$)        0\n",
       "Spending Score (1-100)    0\n",
       "dtype: int64"
      ]
     },
     "execution_count": 5,
     "metadata": {},
     "output_type": "execute_result"
    }
   ],
   "source": [
    "cdata.isnull().sum()"
   ]
  },
  {
   "cell_type": "code",
   "execution_count": 6,
   "id": "62cb9bb1",
   "metadata": {
    "execution": {
     "iopub.execute_input": "2022-03-24T03:47:09.268706Z",
     "iopub.status.busy": "2022-03-24T03:47:09.268001Z",
     "iopub.status.idle": "2022-03-24T03:47:09.272311Z",
     "shell.execute_reply": "2022-03-24T03:47:09.271802Z",
     "shell.execute_reply.started": "2022-03-24T03:35:45.076769Z"
    },
    "papermill": {
     "duration": 0.028966,
     "end_time": "2022-03-24T03:47:09.272490",
     "exception": false,
     "start_time": "2022-03-24T03:47:09.243524",
     "status": "completed"
    },
    "tags": []
   },
   "outputs": [
    {
     "data": {
      "text/plain": [
       "(200, 5)"
      ]
     },
     "execution_count": 6,
     "metadata": {},
     "output_type": "execute_result"
    }
   ],
   "source": [
    "cdata.shape"
   ]
  },
  {
   "cell_type": "code",
   "execution_count": 7,
   "id": "d2d602f7",
   "metadata": {
    "execution": {
     "iopub.execute_input": "2022-03-24T03:47:09.314693Z",
     "iopub.status.busy": "2022-03-24T03:47:09.314028Z",
     "iopub.status.idle": "2022-03-24T03:47:09.322137Z",
     "shell.execute_reply": "2022-03-24T03:47:09.321487Z",
     "shell.execute_reply.started": "2022-03-24T03:35:45.089245Z"
    },
    "papermill": {
     "duration": 0.030231,
     "end_time": "2022-03-24T03:47:09.322277",
     "exception": false,
     "start_time": "2022-03-24T03:47:09.292046",
     "status": "completed"
    },
    "tags": []
   },
   "outputs": [],
   "source": [
    "'''here we cant cluster based on \n",
    "customer id\n",
    "gender(not efficient)\n",
    "age(not efficient)\n",
    "so anual income and speanding score are perfect for analysis\n",
    "1. colon is used to select the colomn\n",
    "2. as indexing starts from 0 i have selected 3and 4 colomn'''\n",
    "\n",
    "x=cdata.iloc[:,[3,4]].values"
   ]
  },
  {
   "cell_type": "code",
   "execution_count": 8,
   "id": "cf122c16",
   "metadata": {
    "execution": {
     "iopub.execute_input": "2022-03-24T03:47:09.365298Z",
     "iopub.status.busy": "2022-03-24T03:47:09.364584Z",
     "iopub.status.idle": "2022-03-24T03:47:09.373927Z",
     "shell.execute_reply": "2022-03-24T03:47:09.374529Z",
     "shell.execute_reply.started": "2022-03-24T03:35:45.101287Z"
    },
    "papermill": {
     "duration": 0.033004,
     "end_time": "2022-03-24T03:47:09.374734",
     "exception": false,
     "start_time": "2022-03-24T03:47:09.341730",
     "status": "completed"
    },
    "tags": []
   },
   "outputs": [
    {
     "name": "stdout",
     "output_type": "stream",
     "text": [
      "[[ 15  39]\n",
      " [ 15  81]\n",
      " [ 16   6]\n",
      " [ 16  77]\n",
      " [ 17  40]\n",
      " [ 17  76]\n",
      " [ 18   6]\n",
      " [ 18  94]\n",
      " [ 19   3]\n",
      " [ 19  72]\n",
      " [ 19  14]\n",
      " [ 19  99]\n",
      " [ 20  15]\n",
      " [ 20  77]\n",
      " [ 20  13]\n",
      " [ 20  79]\n",
      " [ 21  35]\n",
      " [ 21  66]\n",
      " [ 23  29]\n",
      " [ 23  98]\n",
      " [ 24  35]\n",
      " [ 24  73]\n",
      " [ 25   5]\n",
      " [ 25  73]\n",
      " [ 28  14]\n",
      " [ 28  82]\n",
      " [ 28  32]\n",
      " [ 28  61]\n",
      " [ 29  31]\n",
      " [ 29  87]\n",
      " [ 30   4]\n",
      " [ 30  73]\n",
      " [ 33   4]\n",
      " [ 33  92]\n",
      " [ 33  14]\n",
      " [ 33  81]\n",
      " [ 34  17]\n",
      " [ 34  73]\n",
      " [ 37  26]\n",
      " [ 37  75]\n",
      " [ 38  35]\n",
      " [ 38  92]\n",
      " [ 39  36]\n",
      " [ 39  61]\n",
      " [ 39  28]\n",
      " [ 39  65]\n",
      " [ 40  55]\n",
      " [ 40  47]\n",
      " [ 40  42]\n",
      " [ 40  42]\n",
      " [ 42  52]\n",
      " [ 42  60]\n",
      " [ 43  54]\n",
      " [ 43  60]\n",
      " [ 43  45]\n",
      " [ 43  41]\n",
      " [ 44  50]\n",
      " [ 44  46]\n",
      " [ 46  51]\n",
      " [ 46  46]\n",
      " [ 46  56]\n",
      " [ 46  55]\n",
      " [ 47  52]\n",
      " [ 47  59]\n",
      " [ 48  51]\n",
      " [ 48  59]\n",
      " [ 48  50]\n",
      " [ 48  48]\n",
      " [ 48  59]\n",
      " [ 48  47]\n",
      " [ 49  55]\n",
      " [ 49  42]\n",
      " [ 50  49]\n",
      " [ 50  56]\n",
      " [ 54  47]\n",
      " [ 54  54]\n",
      " [ 54  53]\n",
      " [ 54  48]\n",
      " [ 54  52]\n",
      " [ 54  42]\n",
      " [ 54  51]\n",
      " [ 54  55]\n",
      " [ 54  41]\n",
      " [ 54  44]\n",
      " [ 54  57]\n",
      " [ 54  46]\n",
      " [ 57  58]\n",
      " [ 57  55]\n",
      " [ 58  60]\n",
      " [ 58  46]\n",
      " [ 59  55]\n",
      " [ 59  41]\n",
      " [ 60  49]\n",
      " [ 60  40]\n",
      " [ 60  42]\n",
      " [ 60  52]\n",
      " [ 60  47]\n",
      " [ 60  50]\n",
      " [ 61  42]\n",
      " [ 61  49]\n",
      " [ 62  41]\n",
      " [ 62  48]\n",
      " [ 62  59]\n",
      " [ 62  55]\n",
      " [ 62  56]\n",
      " [ 62  42]\n",
      " [ 63  50]\n",
      " [ 63  46]\n",
      " [ 63  43]\n",
      " [ 63  48]\n",
      " [ 63  52]\n",
      " [ 63  54]\n",
      " [ 64  42]\n",
      " [ 64  46]\n",
      " [ 65  48]\n",
      " [ 65  50]\n",
      " [ 65  43]\n",
      " [ 65  59]\n",
      " [ 67  43]\n",
      " [ 67  57]\n",
      " [ 67  56]\n",
      " [ 67  40]\n",
      " [ 69  58]\n",
      " [ 69  91]\n",
      " [ 70  29]\n",
      " [ 70  77]\n",
      " [ 71  35]\n",
      " [ 71  95]\n",
      " [ 71  11]\n",
      " [ 71  75]\n",
      " [ 71   9]\n",
      " [ 71  75]\n",
      " [ 72  34]\n",
      " [ 72  71]\n",
      " [ 73   5]\n",
      " [ 73  88]\n",
      " [ 73   7]\n",
      " [ 73  73]\n",
      " [ 74  10]\n",
      " [ 74  72]\n",
      " [ 75   5]\n",
      " [ 75  93]\n",
      " [ 76  40]\n",
      " [ 76  87]\n",
      " [ 77  12]\n",
      " [ 77  97]\n",
      " [ 77  36]\n",
      " [ 77  74]\n",
      " [ 78  22]\n",
      " [ 78  90]\n",
      " [ 78  17]\n",
      " [ 78  88]\n",
      " [ 78  20]\n",
      " [ 78  76]\n",
      " [ 78  16]\n",
      " [ 78  89]\n",
      " [ 78   1]\n",
      " [ 78  78]\n",
      " [ 78   1]\n",
      " [ 78  73]\n",
      " [ 79  35]\n",
      " [ 79  83]\n",
      " [ 81   5]\n",
      " [ 81  93]\n",
      " [ 85  26]\n",
      " [ 85  75]\n",
      " [ 86  20]\n",
      " [ 86  95]\n",
      " [ 87  27]\n",
      " [ 87  63]\n",
      " [ 87  13]\n",
      " [ 87  75]\n",
      " [ 87  10]\n",
      " [ 87  92]\n",
      " [ 88  13]\n",
      " [ 88  86]\n",
      " [ 88  15]\n",
      " [ 88  69]\n",
      " [ 93  14]\n",
      " [ 93  90]\n",
      " [ 97  32]\n",
      " [ 97  86]\n",
      " [ 98  15]\n",
      " [ 98  88]\n",
      " [ 99  39]\n",
      " [ 99  97]\n",
      " [101  24]\n",
      " [101  68]\n",
      " [103  17]\n",
      " [103  85]\n",
      " [103  23]\n",
      " [103  69]\n",
      " [113   8]\n",
      " [113  91]\n",
      " [120  16]\n",
      " [120  79]\n",
      " [126  28]\n",
      " [126  74]\n",
      " [137  18]\n",
      " [137  83]]\n"
     ]
    }
   ],
   "source": [
    "print(x)"
   ]
  },
  {
   "cell_type": "code",
   "execution_count": null,
   "id": "1d7e80e3",
   "metadata": {
    "papermill": {
     "duration": 0.020378,
     "end_time": "2022-03-24T03:47:09.415528",
     "exception": false,
     "start_time": "2022-03-24T03:47:09.395150",
     "status": "completed"
    },
    "tags": []
   },
   "outputs": [],
   "source": []
  },
  {
   "cell_type": "markdown",
   "id": "e9880b0a",
   "metadata": {
    "papermill": {
     "duration": 0.019597,
     "end_time": "2022-03-24T03:47:09.454987",
     "exception": false,
     "start_time": "2022-03-24T03:47:09.435390",
     "status": "completed"
    },
    "tags": []
   },
   "source": [
    "Its time to select the no of clusters\n",
    "for that i am using WCSS(within cluster sum of squares )as my parameter\n"
   ]
  },
  {
   "cell_type": "code",
   "execution_count": 9,
   "id": "d12ab0f6",
   "metadata": {
    "execution": {
     "iopub.execute_input": "2022-03-24T03:47:09.498136Z",
     "iopub.status.busy": "2022-03-24T03:47:09.497465Z",
     "iopub.status.idle": "2022-03-24T03:47:10.374589Z",
     "shell.execute_reply": "2022-03-24T03:47:10.375211Z",
     "shell.execute_reply.started": "2022-03-24T03:35:45.117830Z"
    },
    "papermill": {
     "duration": 0.900604,
     "end_time": "2022-03-24T03:47:10.375405",
     "exception": false,
     "start_time": "2022-03-24T03:47:09.474801",
     "status": "completed"
    },
    "tags": []
   },
   "outputs": [],
   "source": [
    "wcss=[]\n",
    "for i in range(1,11):\n",
    "    kmeans = KMeans(n_clusters=i, init='k-means++',random_state=23)\n",
    "    kmeans.fit(x)\n",
    "    \n",
    "    wcss.append(kmeans.inertia_)\n"
   ]
  },
  {
   "cell_type": "markdown",
   "id": "626a7737",
   "metadata": {
    "papermill": {
     "duration": 0.019444,
     "end_time": "2022-03-24T03:47:10.415799",
     "exception": false,
     "start_time": "2022-03-24T03:47:10.396355",
     "status": "completed"
    },
    "tags": []
   },
   "source": []
  },
  {
   "cell_type": "code",
   "execution_count": 10,
   "id": "1fe74019",
   "metadata": {
    "execution": {
     "iopub.execute_input": "2022-03-24T03:47:10.469255Z",
     "iopub.status.busy": "2022-03-24T03:47:10.468206Z",
     "iopub.status.idle": "2022-03-24T03:47:10.718405Z",
     "shell.execute_reply": "2022-03-24T03:47:10.717885Z",
     "shell.execute_reply.started": "2022-03-24T03:35:45.979026Z"
    },
    "papermill": {
     "duration": 0.282978,
     "end_time": "2022-03-24T03:47:10.718567",
     "exception": false,
     "start_time": "2022-03-24T03:47:10.435589",
     "status": "completed"
    },
    "tags": []
   },
   "outputs": [
    {
     "data": {
      "image/png": "[encoded data removed]",
      "text/plain": [
       "<Figure size 432x288 with 1 Axes>"
      ]
     },
     "metadata": {},
     "output_type": "display_data"
    }
   ],
   "source": [
    "# ploting the elbow the graph \n",
    "sns.set()\n",
    "plt.plot(range(1,11),wcss) \n",
    "plt.title(\"Elbow graph\")\n",
    "plt.xlabel(\"No. of Clusters\")\n",
    "plt.ylabel(\"WCSS\")\n",
    "plt.show()"
   ]
  },
  {
   "cell_type": "markdown",
   "id": "f52a7d60",
   "metadata": {
    "papermill": {
     "duration": 0.020553,
     "end_time": "2022-03-24T03:47:10.760411",
     "exception": false,
     "start_time": "2022-03-24T03:47:10.739858",
     "status": "completed"
    },
    "tags": []
   },
   "source": [
    "optimal number of clusters\n",
    "\n",
    "From the above graph we can see that line is moving parellel to the x axis so we can conclude that the point from which it is moving parallel is K(no .of cluster) "
   ]
  },
  {
   "cell_type": "code",
   "execution_count": 11,
   "id": "c33ad69a",
   "metadata": {
    "execution": {
     "iopub.execute_input": "2022-03-24T03:47:10.807917Z",
     "iopub.status.busy": "2022-03-24T03:47:10.807122Z",
     "iopub.status.idle": "2022-03-24T03:47:10.931138Z",
     "shell.execute_reply": "2022-03-24T03:47:10.930326Z",
     "shell.execute_reply.started": "2022-03-24T03:41:46.199565Z"
    },
    "papermill": {
     "duration": 0.150344,
     "end_time": "2022-03-24T03:47:10.931452",
     "exception": true,
     "start_time": "2022-03-24T03:47:10.781108",
     "status": "failed"
    },
    "tags": []
   },
   "outputs": [
    {
     "ename": "AttributeError",
     "evalue": "'KMeans' object has no attribute 'fit_predplt'",
     "output_type": "error",
     "traceback": [
      "\u001b[0;31m---------------------------------------------------------------------------\u001b[0m",
      "\u001b[0;31mAttributeError\u001b[0m                            Traceback (most recent call last)",
      "\u001b[0;32m/tmp/ipykernel_20/3478909248.py\u001b[0m in \u001b[0;36m<module>\u001b[0;34m\u001b[0m\n\u001b[1;32m      1\u001b[0m \u001b[0;31m# now we can train the model using a training data\u001b[0m\u001b[0;34m\u001b[0m\u001b[0;34m\u001b[0m\u001b[0;34m\u001b[0m\u001b[0m\n\u001b[1;32m      2\u001b[0m \u001b[0mkmean\u001b[0m\u001b[0;34m=\u001b[0m\u001b[0mKMeans\u001b[0m\u001b[0;34m(\u001b[0m\u001b[0mn_clusters\u001b[0m\u001b[0;34m=\u001b[0m\u001b[0;36m5\u001b[0m\u001b[0;34m,\u001b[0m\u001b[0minit\u001b[0m\u001b[0;34m=\u001b[0m\u001b[0;34m'k-mean++'\u001b[0m\u001b[0;34m,\u001b[0m\u001b[0mrandom_state\u001b[0m\u001b[0;34m=\u001b[0m\u001b[0;36m2\u001b[0m\u001b[0;34m)\u001b[0m\u001b[0;34m\u001b[0m\u001b[0;34m\u001b[0m\u001b[0m\n\u001b[0;32m----> 3\u001b[0;31m \u001b[0my\u001b[0m\u001b[0;34m=\u001b[0m\u001b[0mkmeans\u001b[0m\u001b[0;34m.\u001b[0m\u001b[0mfit_predplt\u001b[0m\u001b[0;34m.\u001b[0m\u001b[0mfigure\u001b[0m\u001b[0;34m(\u001b[0m\u001b[0mfigsize\u001b[0m\u001b[0;34m=\u001b[0m\u001b[0;34m(\u001b[0m\u001b[0;36m8\u001b[0m\u001b[0;34m,\u001b[0m\u001b[0;36m8\u001b[0m\u001b[0;34m)\u001b[0m\u001b[0;34m)\u001b[0m\u001b[0;34m\u001b[0m\u001b[0;34m\u001b[0m\u001b[0m\n\u001b[0m\u001b[1;32m      4\u001b[0m \u001b[0;34m\u001b[0m\u001b[0m\n\u001b[1;32m      5\u001b[0m \u001b[0mprint\u001b[0m\u001b[0;34m(\u001b[0m\u001b[0my\u001b[0m\u001b[0;34m)\u001b[0m\u001b[0;34m\u001b[0m\u001b[0;34m\u001b[0m\u001b[0m\n",
      "\u001b[0;31mAttributeError\u001b[0m: 'KMeans' object has no attribute 'fit_predplt'"
     ]
    }
   ],
   "source": [
    "# now we can train the model using a training data\n",
    "kmean=KMeans(n_clusters=5,init='k-mean++',random_state=2)\n",
    "y=kmeans.fit_predplt.figure(figsize=(8,8))\n",
    "\n",
    "print(y)"
   ]
  },
  {
   "cell_type": "code",
   "execution_count": null,
   "id": "c69c2cc5",
   "metadata": {
    "execution": {
     "iopub.execute_input": "2022-03-24T03:46:22.598758Z",
     "iopub.status.busy": "2022-03-24T03:46:22.598167Z",
     "iopub.status.idle": "2022-03-24T03:46:22.988914Z",
     "shell.execute_reply": "2022-03-24T03:46:22.988067Z",
     "shell.execute_reply.started": "2022-03-24T03:46:22.598716Z"
    },
    "papermill": {
     "duration": null,
     "end_time": null,
     "exception": null,
     "start_time": null,
     "status": "pending"
    },
    "tags": []
   },
   "outputs": [],
   "source": [
    "#visulaising all the clusters\n",
    "plt.figure(figsize=(10,10))\n",
    "plt.scatter(x[y==0,0], x[y==0,1], s=50, c='green', label='Cluster 1')\n",
    "plt.scatter(x[y==1,0], x[y==1,1], s=50, c='red', label='Cluster 2')\n",
    "plt.scatter(x[y==2,0], x[y==2,1], s=50, c='yellow', label='Cluster 3')\n",
    "plt.scatter(x[y==3,0], x[y==3,1], s=50, c='violet', label='Cluster 4')\n",
    "plt.scatter(x[y==4,0], x[y==4,1], s=50, c='blue', label='Cluster 5')\n",
    "\n",
    "#centroids\n",
    "plt.scatter(kmeans.cluster_centers_[:,0], kmeans.cluster_centers_[:,1], s=100, c='cyan', label='Centroids')\n",
    "\n",
    "plt.title('Customer Groups')\n",
    "plt.xlabel('Annual Income')\n",
    "plt.ylabel('Spending Score')\n",
    "plt.show()"
   ]
  },
  {
   "cell_type": "code",
   "execution_count": null,
   "id": "77e37994",
   "metadata": {
    "papermill": {
     "duration": null,
     "end_time": null,
     "exception": null,
     "start_time": null,
     "status": "pending"
    },
    "tags": []
   },
   "outputs": [],
   "source": []
  }
 ],
 "metadata": {
  "kernelspec": {
   "display_name": "Python 3",
   "language": "python",
   "name": "python3"
  },
  "language_info": {
   "codemirror_mode": {
    "name": "ipython",
    "version": 3
   },
   "file_extension": ".py",
   "mimetype": "text/x-python",
   "name": "python",
   "nbconvert_exporter": "python",
   "pygments_lexer": "ipython3",
   "version": "3.7.12"
  },
  "papermill": {
   "default_parameters": {},
   "duration": 14.239372,
   "end_time": "2022-03-24T03:47:11.768294",
   "environment_variables": {},
   "exception": true,
   "input_path": "__notebook__.ipynb",
   "output_path": "__notebook__.ipynb",
   "parameters": {},
   "start_time": "2022-03-24T03:46:57.528922",
   "version": "2.3.3"
  }
 },
 "nbformat": 4,
 "nbformat_minor": 5
}
